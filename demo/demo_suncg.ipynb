{
 "cells": [
  {
   "cell_type": "code",
   "execution_count": 17,
   "metadata": {},
   "outputs": [],
   "source": [
    "from __future__ import absolute_import\n",
    "from __future__ import division\n",
    "from __future__ import print_function\n",
    "\n",
    "%matplotlib inline\n",
    "\n",
    "import matplotlib\n",
    "import numpy as np\n",
    "import matplotlib.pyplot as plt\n",
    "\n",
    "code_root='/home/nileshk/Research3/3dRelnet/relative3d'\n",
    "import sys\n",
    "import numpy as np\n",
    "import os.path as osp\n",
    "import scipy.misc\n",
    "import scipy.io as sio\n",
    "import torch\n",
    "import matplotlib.pyplot as plt\n",
    "sys.path.append(osp.join(code_root, '..'))\n",
    "import pdb\n",
    "from absl import flags\n",
    "from relative3d.demo import demo_utils"
   ]
  },
  {
   "cell_type": "code",
   "execution_count": 18,
   "metadata": {},
   "outputs": [],
   "source": [
    "\n",
    "flags.FLAGS(['demo'])\n",
    "opts =  flags.FLAGS\n",
    "opts.batch_size = 1\n",
    "opts.num_train_epoch = 8\n",
    "opts.name = 'box3d_base_spatial_mask_common_upsample_t2'\n",
    "opts.classify_rot = True\n",
    "opts.classify_dir = True\n",
    "opts.pred_voxels = False\n",
    "opts.use_context = True\n",
    "opts.pred_labels=True\n",
    "opts.upsample_mask=True\n",
    "opts.pred_relative=True\n",
    "opts.use_mask_in_common=True\n",
    "opts.use_spatial_map=True\n",
    "\n",
    "opts.pretrained_shape_decoder=True\n",
    "opts.do_updates=True\n",
    "\n",
    "\n",
    "if opts.classify_rot:\n",
    "    opts.nz_rot = 24\n",
    "else:\n",
    "    opts.nz_rot = 4\n"
   ]
  },
  {
   "cell_type": "code",
   "execution_count": 19,
   "metadata": {},
   "outputs": [
    {
     "name": "stdout",
     "output_type": "stream",
     "text": [
      "Loading weights from /home/nileshk/Research3/3dRelnet/relative3d/nnutils/../cachedir/snapshots/box3d_base_spatial_mask_common_upsample_t2/pred_net_8.pth\n",
      "Loading shape decoder pretrained\n",
      "Loading weights from /home/nileshk/Research3/3dRelnet/relative3d/nnutils/../cachedir/snapshots/object_autoenc_32/decoder_net_800.pth\n",
      "Loading weights from /home/nileshk/Research3/3dRelnet/relative3d/nnutils/../cachedir/snapshots/layout_pred/pred_net_8.pth\n",
      "Loading weights from /home/nileshk/Research3/3dRelnet/relative3d/nnutils/../cachedir/snapshots/pretrained_dwr_shape_ft/pred_net_1.pth\n",
      "Loading weights from /home/nileshk/Research3/3dRelnet/relative3d/nnutils/../cachedir/snapshots/object_autoenc_32/decoder_net_800.pth\n"
     ]
    }
   ],
   "source": [
    "tester = demo_utils.DemoTester(opts)\n",
    "tester.init_testing()\n",
    "\n",
    "\n",
    "# renderer = demo_utils.DemoRenderer(opts)\n",
    "## Load input data\n"
   ]
  },
  {
   "cell_type": "code",
   "execution_count": 20,
   "metadata": {},
   "outputs": [
    {
     "name": "stderr",
     "output_type": "stream",
     "text": [
      "/home/nileshk/anaconda2/envs/3drelNet/lib/python2.7/site-packages/ipykernel_launcher.py:3: DeprecationWarning: `imread` is deprecated!\n",
      "`imread` is deprecated in SciPy 1.0.0, and will be removed in 1.2.0.\n",
      "Use ``imageio.imread`` instead.\n",
      "  This is separate from the ipykernel package so we can avoid doing imports until\n",
      "/home/nileshk/anaconda2/envs/3drelNet/lib/python2.7/site-packages/ipykernel_launcher.py:5: DeprecationWarning: `imresize` is deprecated!\n",
      "`imresize` is deprecated in SciPy 1.0.0, and will be removed in 1.3.0.\n",
      "Use Pillow instead: ``numpy.array(Image.fromarray(arr).resize())``.\n",
      "  \"\"\"\n",
      "/home/nileshk/anaconda2/envs/3drelNet/lib/python2.7/site-packages/ipykernel_launcher.py:8: DeprecationWarning: `imresize` is deprecated!\n",
      "`imresize` is deprecated in SciPy 1.0.0, and will be removed in 1.3.0.\n",
      "Use Pillow instead: ``numpy.array(Image.fromarray(arr).resize())``.\n",
      "  \n"
     ]
    },
    {
     "ename": "KeyError",
     "evalue": "'proposals'",
     "output_type": "error",
     "traceback": [
      "\u001b[0;31m---------------------------------------------------------------------------\u001b[0m",
      "\u001b[0;31mKeyError\u001b[0m                                  Traceback (most recent call last)",
      "\u001b[0;32m<ipython-input-20-e8961465073d>\u001b[0m in \u001b[0;36m<module>\u001b[0;34m()\u001b[0m\n\u001b[1;32m     10\u001b[0m \u001b[0;34m\u001b[0m\u001b[0m\n\u001b[1;32m     11\u001b[0m \u001b[0;34m\u001b[0m\u001b[0m\n\u001b[0;32m---> 12\u001b[0;31m \u001b[0mproposals\u001b[0m \u001b[0;34m=\u001b[0m \u001b[0msio\u001b[0m\u001b[0;34m.\u001b[0m\u001b[0mloadmat\u001b[0m\u001b[0;34m(\u001b[0m\u001b[0;34m'./data/{}_proposals.mat'\u001b[0m\u001b[0;34m.\u001b[0m\u001b[0mformat\u001b[0m\u001b[0;34m(\u001b[0m\u001b[0mdataset\u001b[0m\u001b[0;34m)\u001b[0m\u001b[0;34m)\u001b[0m\u001b[0;34m[\u001b[0m\u001b[0;34m'proposals'\u001b[0m\u001b[0;34m]\u001b[0m\u001b[0;34m[\u001b[0m\u001b[0;34m:\u001b[0m\u001b[0;34m,\u001b[0m \u001b[0;36m0\u001b[0m\u001b[0;34m:\u001b[0m\u001b[0;36m4\u001b[0m\u001b[0;34m]\u001b[0m\u001b[0;34m\u001b[0m\u001b[0m\n\u001b[0m\u001b[1;32m     13\u001b[0m \u001b[0;34m\u001b[0m\u001b[0m\n\u001b[1;32m     14\u001b[0m \u001b[0minputs\u001b[0m \u001b[0;34m=\u001b[0m \u001b[0;34m{\u001b[0m\u001b[0;34m}\u001b[0m\u001b[0;34m\u001b[0m\u001b[0m\n",
      "\u001b[0;31mKeyError\u001b[0m: 'proposals'"
     ]
    }
   ],
   "source": [
    "dataset = 'suncg'\n",
    "\n",
    "img = scipy.misc.imread('./data/{}_img.png'.format(dataset))\n",
    "\n",
    "img_fine = scipy.misc.imresize(img, (opts.img_height_fine, opts.img_width_fine))\n",
    "img_fine = np.transpose(img_fine, (2,0,1))\n",
    "\n",
    "img_coarse = scipy.misc.imresize(img, (opts.img_height, opts.img_width))\n",
    "img_coarse = np.transpose(img_coarse, (2,0,1))\n",
    "\n",
    "\n",
    "proposals = sio.loadmat('./data/{}_proposals.mat'.format(dataset))['proposals'][:, 0:4]\n",
    "\n",
    "inputs = {}\n",
    "inputs['img'] = torch.from_numpy(img_coarse/255.0).unsqueeze(0)\n",
    "inputs['img_fine'] = torch.from_numpy(img_fine/255.0).unsqueeze(0)\n",
    "inputs['bboxes'] = [torch.from_numpy(proposals)]\n",
    "\n",
    "inputs['empty'] = False\n",
    "tester.set_input(inputs)\n",
    "\n",
    "\n",
    "objects = tester.predict_box3d()\n",
    "visuals = tester.render_outputs()"
   ]
  },
  {
   "cell_type": "code",
   "execution_count": null,
   "metadata": {},
   "outputs": [],
   "source": [
    "tester.set_input(inputs)\n",
    "objects = tester.predict_box3d()\n",
    "visuals = tester.render_outputs()"
   ]
  },
  {
   "cell_type": "code",
   "execution_count": null,
   "metadata": {},
   "outputs": [],
   "source": [
    "visuals.keys()"
   ]
  },
  {
   "cell_type": "code",
   "execution_count": null,
   "metadata": {},
   "outputs": [],
   "source": [
    "f, axarr = plt.subplots(2, 2, figsize=(20, 8))\n",
    "\n",
    "\n",
    "\n",
    "axarr[0, 0].imshow(visuals['img'])\n",
    "axarr[0, 0].axis('off')\n",
    "axarr[0, 1].imshow(visuals['b_pred_objects_cam_view'])\n",
    "axarr[0, 1].axis('off')\n",
    "axarr[1, 0].imshow(visuals['img_roi'])\n",
    "axarr[1, 0].axis('off')\n",
    "axarr[1, 1].imshow(visuals['b_pred_scene_cam_view'])\n",
    "axarr[1, 1].axis('off')\n",
    "plt.show()"
   ]
  },
  {
   "cell_type": "code",
   "execution_count": null,
   "metadata": {},
   "outputs": [],
   "source": []
  },
  {
   "cell_type": "code",
   "execution_count": null,
   "metadata": {},
   "outputs": [],
   "source": []
  }
 ],
 "metadata": {
  "kernelspec": {
   "display_name": "3drelnet",
   "language": "python",
   "name": "3drelnet"
  },
  "language_info": {
   "codemirror_mode": {
    "name": "ipython",
    "version": 2
   },
   "file_extension": ".py",
   "mimetype": "text/x-python",
   "name": "python",
   "nbconvert_exporter": "python",
   "pygments_lexer": "ipython2",
   "version": "2.7.15"
  }
 },
 "nbformat": 4,
 "nbformat_minor": 2
}
